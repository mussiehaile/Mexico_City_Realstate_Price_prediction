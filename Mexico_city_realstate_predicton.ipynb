{
  "nbformat": 4,
  "nbformat_minor": 0,
  "metadata": {
    "colab": {
      "provenance": []
    },
    "kernelspec": {
      "name": "python3",
      "display_name": "Python 3"
    },
    "language_info": {
      "name": "python"
    }
  },
  "cells": [
    {
      "cell_type": "code",
      "execution_count": 106,
      "metadata": {
        "id": "RvhJyhLPD-ZZ"
      },
      "outputs": [],
      "source": [
        "\n",
        " \n",
        "# Import libraries here\n",
        "import warnings\n",
        "from glob import glob\n",
        "import plotly.express as px\n",
        "import pandas as pd\n",
        "import seaborn as sns\n",
        "from sklearn.preprocessing import OneHotEncoder\n",
        "from IPython.display import VimeoVideo\n",
        "from ipywidgets import Dropdown, FloatSlider, IntSlider, interact\n",
        "from sklearn.impute import SimpleImputer\n",
        "from sklearn.linear_model import LinearRegression, Ridge  # noqa F401\n",
        "from sklearn.metrics import mean_absolute_error\n",
        "from sklearn.pipeline import make_pipeline\n",
        "from sklearn.utils.validation import check_is_fitted\n",
        "import matplotlib.pyplot as plt"
      ]
    },
    {
      "cell_type": "code",
      "source": [
        "# Build your `wrangle` function\n",
        "def wrangle(filpath):\n",
        "    df= pd.read_csv(filpath,encoding=\"latin1\")\n",
        "    mask_ba = df[\"place_with_parent_names\"].str.contains(\"Distrito Federal\")\n",
        "    mask_apt = df[\"property_type\"] == \"apartment\"\n",
        "    mask_price = df[\"price_aprox_usd\"] < 100_000\n",
        "    df = df[mask_ba & mask_apt & mask_price]\n",
        "    # Subset data: Remove outliers for \"surface_covered_in_m2\"\n",
        "    low, high = df[\"surface_covered_in_m2\"].quantile([0.1, 0.9])\n",
        "    mask_area = df[\"surface_covered_in_m2\"].between(low, high)\n",
        "    df = df[mask_area]\n",
        "    # Split \"lat-lon\" column\n",
        "    df[[\"lat\", \"lon\"]] = df[\"lat-lon\"].str.split(\",\", expand=True).astype(float)\n",
        "    df.drop(columns=\"lat-lon\", inplace=True)\n",
        "     # Get place name\n",
        "    df[\"borough\"] = df[\"place_with_parent_names\"].str.split(\"|\", expand=True)[1]\n",
        "    df.drop(columns=\"place_with_parent_names\", inplace=True)\n",
        "     # droping columns which are lots of nullvalue\n",
        "    df.drop(columns = [\"floor\",\"rooms\",\"expenses\",\"surface_total_in_m2\",\"price_usd_per_m2\"],inplace = True)\n",
        "     # droping columns that have either to high or to low cardinality\n",
        "    df.drop(columns =['operation','property_type','currency','properati_url'],inplace = True)\n",
        "      #droping columns that have likage \n",
        "    df.drop(columns =['price', 'price_aprox_local_currency','price_per_m2'],inplace =True)\n",
        "     #droping columns that have multi colinarity\n",
        "     # df.drop(columns =['surface_covered_in_m2'],inplace =True)\n",
        "    df.drop(columns=\"Unnamed: 0\",inplace=True)\n",
        "   \n",
        "    return df"
      ],
      "metadata": {
        "id": "ZonP4vKwEH8a"
      },
      "execution_count": 68,
      "outputs": []
    },
    {
      "cell_type": "code",
      "source": [
        "from IPython.utils.py3compat import encode\n",
        "#importing my data in to a dataframe\n",
        "df1 = wrangle(\"/content/drive/MyDrive/Mexico_housing _data/mexico_data1.csv\")\n",
        "df1.head()"
      ],
      "metadata": {
        "colab": {
          "base_uri": "https://localhost:8080/",
          "height": 206
        },
        "id": "Ft5_xRGuEILF",
        "outputId": "987cd07a-de50-4979-99ed-b82bde32db8f"
      },
      "execution_count": 69,
      "outputs": [
        {
          "output_type": "execute_result",
          "data": {
            "text/plain": [
              "    price_aprox_usd  surface_covered_in_m2        lat         lon  \\\n",
              "11         94022.66                   57.0  23.634501 -102.552788   \n",
              "20         70880.12                   56.0  19.402413  -99.095391   \n",
              "21         68228.99                   80.0  19.357820  -99.149406   \n",
              "22         24235.78                   60.0  19.504985  -99.208557   \n",
              "26         94140.20                   50.0  19.354219  -99.126244   \n",
              "\n",
              "          borough  \n",
              "11  Benito Juárez  \n",
              "20      Iztacalco  \n",
              "21  Benito Juárez  \n",
              "22   Azcapotzalco  \n",
              "26       Coyoacán  "
            ],
            "text/html": [
              "\n",
              "  <div id=\"df-a3a7ad07-0ecb-47da-8fcf-e1cfc9e26636\">\n",
              "    <div class=\"colab-df-container\">\n",
              "      <div>\n",
              "<style scoped>\n",
              "    .dataframe tbody tr th:only-of-type {\n",
              "        vertical-align: middle;\n",
              "    }\n",
              "\n",
              "    .dataframe tbody tr th {\n",
              "        vertical-align: top;\n",
              "    }\n",
              "\n",
              "    .dataframe thead th {\n",
              "        text-align: right;\n",
              "    }\n",
              "</style>\n",
              "<table border=\"1\" class=\"dataframe\">\n",
              "  <thead>\n",
              "    <tr style=\"text-align: right;\">\n",
              "      <th></th>\n",
              "      <th>price_aprox_usd</th>\n",
              "      <th>surface_covered_in_m2</th>\n",
              "      <th>lat</th>\n",
              "      <th>lon</th>\n",
              "      <th>borough</th>\n",
              "    </tr>\n",
              "  </thead>\n",
              "  <tbody>\n",
              "    <tr>\n",
              "      <th>11</th>\n",
              "      <td>94022.66</td>\n",
              "      <td>57.0</td>\n",
              "      <td>23.634501</td>\n",
              "      <td>-102.552788</td>\n",
              "      <td>Benito Juárez</td>\n",
              "    </tr>\n",
              "    <tr>\n",
              "      <th>20</th>\n",
              "      <td>70880.12</td>\n",
              "      <td>56.0</td>\n",
              "      <td>19.402413</td>\n",
              "      <td>-99.095391</td>\n",
              "      <td>Iztacalco</td>\n",
              "    </tr>\n",
              "    <tr>\n",
              "      <th>21</th>\n",
              "      <td>68228.99</td>\n",
              "      <td>80.0</td>\n",
              "      <td>19.357820</td>\n",
              "      <td>-99.149406</td>\n",
              "      <td>Benito Juárez</td>\n",
              "    </tr>\n",
              "    <tr>\n",
              "      <th>22</th>\n",
              "      <td>24235.78</td>\n",
              "      <td>60.0</td>\n",
              "      <td>19.504985</td>\n",
              "      <td>-99.208557</td>\n",
              "      <td>Azcapotzalco</td>\n",
              "    </tr>\n",
              "    <tr>\n",
              "      <th>26</th>\n",
              "      <td>94140.20</td>\n",
              "      <td>50.0</td>\n",
              "      <td>19.354219</td>\n",
              "      <td>-99.126244</td>\n",
              "      <td>Coyoacán</td>\n",
              "    </tr>\n",
              "  </tbody>\n",
              "</table>\n",
              "</div>\n",
              "      <button class=\"colab-df-convert\" onclick=\"convertToInteractive('df-a3a7ad07-0ecb-47da-8fcf-e1cfc9e26636')\"\n",
              "              title=\"Convert this dataframe to an interactive table.\"\n",
              "              style=\"display:none;\">\n",
              "        \n",
              "  <svg xmlns=\"http://www.w3.org/2000/svg\" height=\"24px\"viewBox=\"0 0 24 24\"\n",
              "       width=\"24px\">\n",
              "    <path d=\"M0 0h24v24H0V0z\" fill=\"none\"/>\n",
              "    <path d=\"M18.56 5.44l.94 2.06.94-2.06 2.06-.94-2.06-.94-.94-2.06-.94 2.06-2.06.94zm-11 1L8.5 8.5l.94-2.06 2.06-.94-2.06-.94L8.5 2.5l-.94 2.06-2.06.94zm10 10l.94 2.06.94-2.06 2.06-.94-2.06-.94-.94-2.06-.94 2.06-2.06.94z\"/><path d=\"M17.41 7.96l-1.37-1.37c-.4-.4-.92-.59-1.43-.59-.52 0-1.04.2-1.43.59L10.3 9.45l-7.72 7.72c-.78.78-.78 2.05 0 2.83L4 21.41c.39.39.9.59 1.41.59.51 0 1.02-.2 1.41-.59l7.78-7.78 2.81-2.81c.8-.78.8-2.07 0-2.86zM5.41 20L4 18.59l7.72-7.72 1.47 1.35L5.41 20z\"/>\n",
              "  </svg>\n",
              "      </button>\n",
              "      \n",
              "  <style>\n",
              "    .colab-df-container {\n",
              "      display:flex;\n",
              "      flex-wrap:wrap;\n",
              "      gap: 12px;\n",
              "    }\n",
              "\n",
              "    .colab-df-convert {\n",
              "      background-color: #E8F0FE;\n",
              "      border: none;\n",
              "      border-radius: 50%;\n",
              "      cursor: pointer;\n",
              "      display: none;\n",
              "      fill: #1967D2;\n",
              "      height: 32px;\n",
              "      padding: 0 0 0 0;\n",
              "      width: 32px;\n",
              "    }\n",
              "\n",
              "    .colab-df-convert:hover {\n",
              "      background-color: #E2EBFA;\n",
              "      box-shadow: 0px 1px 2px rgba(60, 64, 67, 0.3), 0px 1px 3px 1px rgba(60, 64, 67, 0.15);\n",
              "      fill: #174EA6;\n",
              "    }\n",
              "\n",
              "    [theme=dark] .colab-df-convert {\n",
              "      background-color: #3B4455;\n",
              "      fill: #D2E3FC;\n",
              "    }\n",
              "\n",
              "    [theme=dark] .colab-df-convert:hover {\n",
              "      background-color: #434B5C;\n",
              "      box-shadow: 0px 1px 3px 1px rgba(0, 0, 0, 0.15);\n",
              "      filter: drop-shadow(0px 1px 2px rgba(0, 0, 0, 0.3));\n",
              "      fill: #FFFFFF;\n",
              "    }\n",
              "  </style>\n",
              "\n",
              "      <script>\n",
              "        const buttonEl =\n",
              "          document.querySelector('#df-a3a7ad07-0ecb-47da-8fcf-e1cfc9e26636 button.colab-df-convert');\n",
              "        buttonEl.style.display =\n",
              "          google.colab.kernel.accessAllowed ? 'block' : 'none';\n",
              "\n",
              "        async function convertToInteractive(key) {\n",
              "          const element = document.querySelector('#df-a3a7ad07-0ecb-47da-8fcf-e1cfc9e26636');\n",
              "          const dataTable =\n",
              "            await google.colab.kernel.invokeFunction('convertToInteractive',\n",
              "                                                     [key], {});\n",
              "          if (!dataTable) return;\n",
              "\n",
              "          const docLinkHtml = 'Like what you see? Visit the ' +\n",
              "            '<a target=\"_blank\" href=https://colab.research.google.com/notebooks/data_table.ipynb>data table notebook</a>'\n",
              "            + ' to learn more about interactive tables.';\n",
              "          element.innerHTML = '';\n",
              "          dataTable['output_type'] = 'display_data';\n",
              "          await google.colab.output.renderOutput(dataTable, element);\n",
              "          const docLink = document.createElement('div');\n",
              "          docLink.innerHTML = docLinkHtml;\n",
              "          element.appendChild(docLink);\n",
              "        }\n",
              "      </script>\n",
              "    </div>\n",
              "  </div>\n",
              "  "
            ]
          },
          "metadata": {},
          "execution_count": 69
        }
      ]
    },
    {
      "cell_type": "code",
      "source": [
        "df1.shape"
      ],
      "metadata": {
        "colab": {
          "base_uri": "https://localhost:8080/"
        },
        "id": "4_cnW_FaKM4l",
        "outputId": "fc31e9f6-3a8c-4efd-d7a5-a9d359dc0bab"
      },
      "execution_count": 70,
      "outputs": [
        {
          "output_type": "execute_result",
          "data": {
            "text/plain": [
              "(1101, 5)"
            ]
          },
          "metadata": {},
          "execution_count": 70
        }
      ]
    },
    {
      "cell_type": "code",
      "source": [
        "#check if thair is any missing value\n",
        "df1.isnull().sum()\n",
        "    "
      ],
      "metadata": {
        "colab": {
          "base_uri": "https://localhost:8080/"
        },
        "id": "agclZVHSQcau",
        "outputId": "708ea906-e716-4f42-8a85-546de77aa574"
      },
      "execution_count": 59,
      "outputs": [
        {
          "output_type": "execute_result",
          "data": {
            "text/plain": [
              "Unnamed: 0                0\n",
              "price_aprox_usd           0\n",
              "surface_covered_in_m2     0\n",
              "lat                      60\n",
              "lon                      60\n",
              "borough                   0\n",
              "dtype: int64"
            ]
          },
          "metadata": {},
          "execution_count": 59
        }
      ]
    },
    {
      "cell_type": "code",
      "source": [
        "files=glob(\"/content/drive/MyDrive/Mexico_housing _data/mexico_data*.csv\")\n",
        "files"
      ],
      "metadata": {
        "colab": {
          "base_uri": "https://localhost:8080/"
        },
        "id": "MD1UBuCYmh__",
        "outputId": "dfd2c85a-fc77-474a-d45c-b6e2e4805a81"
      },
      "execution_count": 71,
      "outputs": [
        {
          "output_type": "execute_result",
          "data": {
            "text/plain": [
              "['/content/drive/MyDrive/Mexico_housing _data/mexico_data1.csv',\n",
              " '/content/drive/MyDrive/Mexico_housing _data/mexico_data2.csv',\n",
              " '/content/drive/MyDrive/Mexico_housing _data/mexico_data5.csv',\n",
              " '/content/drive/MyDrive/Mexico_housing _data/mexico_data4.csv',\n",
              " '/content/drive/MyDrive/Mexico_housing _data/mexico_data3.csv']"
            ]
          },
          "metadata": {},
          "execution_count": 71
        }
      ]
    },
    {
      "cell_type": "code",
      "source": [
        "df = [wrangle(file) for file in files]\n",
        "df= pd.concat(df)\n",
        "print(df.info())\n",
        "df.head()"
      ],
      "metadata": {
        "colab": {
          "base_uri": "https://localhost:8080/",
          "height": 443
        },
        "id": "KoZ9j3WOqQcb",
        "outputId": "c3495608-ca4e-4c85-fd62-7a0521d34f7e"
      },
      "execution_count": 72,
      "outputs": [
        {
          "output_type": "stream",
          "name": "stdout",
          "text": [
            "<class 'pandas.core.frame.DataFrame'>\n",
            "Int64Index: 5473 entries, 11 to 4622\n",
            "Data columns (total 5 columns):\n",
            " #   Column                 Non-Null Count  Dtype  \n",
            "---  ------                 --------------  -----  \n",
            " 0   price_aprox_usd        5473 non-null   float64\n",
            " 1   surface_covered_in_m2  5473 non-null   float64\n",
            " 2   lat                    5149 non-null   float64\n",
            " 3   lon                    5149 non-null   float64\n",
            " 4   borough                5473 non-null   object \n",
            "dtypes: float64(4), object(1)\n",
            "memory usage: 256.5+ KB\n",
            "None\n"
          ]
        },
        {
          "output_type": "execute_result",
          "data": {
            "text/plain": [
              "    price_aprox_usd  surface_covered_in_m2        lat         lon  \\\n",
              "11         94022.66                   57.0  23.634501 -102.552788   \n",
              "20         70880.12                   56.0  19.402413  -99.095391   \n",
              "21         68228.99                   80.0  19.357820  -99.149406   \n",
              "22         24235.78                   60.0  19.504985  -99.208557   \n",
              "26         94140.20                   50.0  19.354219  -99.126244   \n",
              "\n",
              "          borough  \n",
              "11  Benito Juárez  \n",
              "20      Iztacalco  \n",
              "21  Benito Juárez  \n",
              "22   Azcapotzalco  \n",
              "26       Coyoacán  "
            ],
            "text/html": [
              "\n",
              "  <div id=\"df-d5ede85c-e762-4de2-9f8c-c7ef2871d4e9\">\n",
              "    <div class=\"colab-df-container\">\n",
              "      <div>\n",
              "<style scoped>\n",
              "    .dataframe tbody tr th:only-of-type {\n",
              "        vertical-align: middle;\n",
              "    }\n",
              "\n",
              "    .dataframe tbody tr th {\n",
              "        vertical-align: top;\n",
              "    }\n",
              "\n",
              "    .dataframe thead th {\n",
              "        text-align: right;\n",
              "    }\n",
              "</style>\n",
              "<table border=\"1\" class=\"dataframe\">\n",
              "  <thead>\n",
              "    <tr style=\"text-align: right;\">\n",
              "      <th></th>\n",
              "      <th>price_aprox_usd</th>\n",
              "      <th>surface_covered_in_m2</th>\n",
              "      <th>lat</th>\n",
              "      <th>lon</th>\n",
              "      <th>borough</th>\n",
              "    </tr>\n",
              "  </thead>\n",
              "  <tbody>\n",
              "    <tr>\n",
              "      <th>11</th>\n",
              "      <td>94022.66</td>\n",
              "      <td>57.0</td>\n",
              "      <td>23.634501</td>\n",
              "      <td>-102.552788</td>\n",
              "      <td>Benito Juárez</td>\n",
              "    </tr>\n",
              "    <tr>\n",
              "      <th>20</th>\n",
              "      <td>70880.12</td>\n",
              "      <td>56.0</td>\n",
              "      <td>19.402413</td>\n",
              "      <td>-99.095391</td>\n",
              "      <td>Iztacalco</td>\n",
              "    </tr>\n",
              "    <tr>\n",
              "      <th>21</th>\n",
              "      <td>68228.99</td>\n",
              "      <td>80.0</td>\n",
              "      <td>19.357820</td>\n",
              "      <td>-99.149406</td>\n",
              "      <td>Benito Juárez</td>\n",
              "    </tr>\n",
              "    <tr>\n",
              "      <th>22</th>\n",
              "      <td>24235.78</td>\n",
              "      <td>60.0</td>\n",
              "      <td>19.504985</td>\n",
              "      <td>-99.208557</td>\n",
              "      <td>Azcapotzalco</td>\n",
              "    </tr>\n",
              "    <tr>\n",
              "      <th>26</th>\n",
              "      <td>94140.20</td>\n",
              "      <td>50.0</td>\n",
              "      <td>19.354219</td>\n",
              "      <td>-99.126244</td>\n",
              "      <td>Coyoacán</td>\n",
              "    </tr>\n",
              "  </tbody>\n",
              "</table>\n",
              "</div>\n",
              "      <button class=\"colab-df-convert\" onclick=\"convertToInteractive('df-d5ede85c-e762-4de2-9f8c-c7ef2871d4e9')\"\n",
              "              title=\"Convert this dataframe to an interactive table.\"\n",
              "              style=\"display:none;\">\n",
              "        \n",
              "  <svg xmlns=\"http://www.w3.org/2000/svg\" height=\"24px\"viewBox=\"0 0 24 24\"\n",
              "       width=\"24px\">\n",
              "    <path d=\"M0 0h24v24H0V0z\" fill=\"none\"/>\n",
              "    <path d=\"M18.56 5.44l.94 2.06.94-2.06 2.06-.94-2.06-.94-.94-2.06-.94 2.06-2.06.94zm-11 1L8.5 8.5l.94-2.06 2.06-.94-2.06-.94L8.5 2.5l-.94 2.06-2.06.94zm10 10l.94 2.06.94-2.06 2.06-.94-2.06-.94-.94-2.06-.94 2.06-2.06.94z\"/><path d=\"M17.41 7.96l-1.37-1.37c-.4-.4-.92-.59-1.43-.59-.52 0-1.04.2-1.43.59L10.3 9.45l-7.72 7.72c-.78.78-.78 2.05 0 2.83L4 21.41c.39.39.9.59 1.41.59.51 0 1.02-.2 1.41-.59l7.78-7.78 2.81-2.81c.8-.78.8-2.07 0-2.86zM5.41 20L4 18.59l7.72-7.72 1.47 1.35L5.41 20z\"/>\n",
              "  </svg>\n",
              "      </button>\n",
              "      \n",
              "  <style>\n",
              "    .colab-df-container {\n",
              "      display:flex;\n",
              "      flex-wrap:wrap;\n",
              "      gap: 12px;\n",
              "    }\n",
              "\n",
              "    .colab-df-convert {\n",
              "      background-color: #E8F0FE;\n",
              "      border: none;\n",
              "      border-radius: 50%;\n",
              "      cursor: pointer;\n",
              "      display: none;\n",
              "      fill: #1967D2;\n",
              "      height: 32px;\n",
              "      padding: 0 0 0 0;\n",
              "      width: 32px;\n",
              "    }\n",
              "\n",
              "    .colab-df-convert:hover {\n",
              "      background-color: #E2EBFA;\n",
              "      box-shadow: 0px 1px 2px rgba(60, 64, 67, 0.3), 0px 1px 3px 1px rgba(60, 64, 67, 0.15);\n",
              "      fill: #174EA6;\n",
              "    }\n",
              "\n",
              "    [theme=dark] .colab-df-convert {\n",
              "      background-color: #3B4455;\n",
              "      fill: #D2E3FC;\n",
              "    }\n",
              "\n",
              "    [theme=dark] .colab-df-convert:hover {\n",
              "      background-color: #434B5C;\n",
              "      box-shadow: 0px 1px 3px 1px rgba(0, 0, 0, 0.15);\n",
              "      filter: drop-shadow(0px 1px 2px rgba(0, 0, 0, 0.3));\n",
              "      fill: #FFFFFF;\n",
              "    }\n",
              "  </style>\n",
              "\n",
              "      <script>\n",
              "        const buttonEl =\n",
              "          document.querySelector('#df-d5ede85c-e762-4de2-9f8c-c7ef2871d4e9 button.colab-df-convert');\n",
              "        buttonEl.style.display =\n",
              "          google.colab.kernel.accessAllowed ? 'block' : 'none';\n",
              "\n",
              "        async function convertToInteractive(key) {\n",
              "          const element = document.querySelector('#df-d5ede85c-e762-4de2-9f8c-c7ef2871d4e9');\n",
              "          const dataTable =\n",
              "            await google.colab.kernel.invokeFunction('convertToInteractive',\n",
              "                                                     [key], {});\n",
              "          if (!dataTable) return;\n",
              "\n",
              "          const docLinkHtml = 'Like what you see? Visit the ' +\n",
              "            '<a target=\"_blank\" href=https://colab.research.google.com/notebooks/data_table.ipynb>data table notebook</a>'\n",
              "            + ' to learn more about interactive tables.';\n",
              "          element.innerHTML = '';\n",
              "          dataTable['output_type'] = 'display_data';\n",
              "          await google.colab.output.renderOutput(dataTable, element);\n",
              "          const docLink = document.createElement('div');\n",
              "          docLink.innerHTML = docLinkHtml;\n",
              "          element.appendChild(docLink);\n",
              "        }\n",
              "      </script>\n",
              "    </div>\n",
              "  </div>\n",
              "  "
            ]
          },
          "metadata": {},
          "execution_count": 72
        }
      ]
    },
    {
      "cell_type": "markdown",
      "source": [
        "#Explore"
      ],
      "metadata": {
        "id": "emNZUXVJrefj"
      }
    },
    {
      "cell_type": "code",
      "source": [
        "#Create a histogram showing the distribution of apartment prices\n",
        "# Build histogram\n",
        "plt.hist(df[\"price_aprox_usd\"])\n",
        "# Label axes\n",
        "plt.xlabel(\"Price [$]\")\n",
        "plt.ylabel(\"Count\")\n",
        "# Add title\n",
        "plt.title('Distribution of Apartment')"
      ],
      "metadata": {
        "colab": {
          "base_uri": "https://localhost:8080/",
          "height": 313
        },
        "id": "FeiOfbDeqfHi",
        "outputId": "75181caf-266c-424b-f7ca-ed4917c3c9ab"
      },
      "execution_count": 73,
      "outputs": [
        {
          "output_type": "execute_result",
          "data": {
            "text/plain": [
              "Text(0.5, 1.0, 'Distribution of Apartment')"
            ]
          },
          "metadata": {},
          "execution_count": 73
        },
        {
          "output_type": "display_data",
          "data": {
            "text/plain": [
              "<Figure size 432x288 with 1 Axes>"
            ],
            "image/png": "[encoded data removed]"
          },
          "metadata": {
            "needs_background": "light"
          }
        }
      ]
    },
    {
      "cell_type": "code",
      "source": [
        "#Create a scatter plot that shows apartment price  as a function of apartment size\n",
        "# Build scatter plot\n",
        "plt.scatter(x = df['surface_covered_in_m2'], y=df['price_aprox_usd'])\n",
        "plt.ylabel('Price [USD]')\n",
        "plt.xlabel('Area [sq meters]')\n",
        "plt.title('Mexico City: Price vs. Area')"
      ],
      "metadata": {
        "colab": {
          "base_uri": "https://localhost:8080/",
          "height": 313
        },
        "id": "as6Kx4qqrrSw",
        "outputId": "9dbce578-4c83-4339-fad9-b93a954d7213"
      },
      "execution_count": 74,
      "outputs": [
        {
          "output_type": "execute_result",
          "data": {
            "text/plain": [
              "Text(0.5, 1.0, 'Mexico City: Price vs. Area')"
            ]
          },
          "metadata": {},
          "execution_count": 74
        },
        {
          "output_type": "display_data",
          "data": {
            "text/plain": [
              "<Figure size 432x288 with 1 Axes>"
            ],
            "image/png": "[encoded data removed]"
          },
          "metadata": {
            "needs_background": "light"
          }
        }
      ]
    },
    {
      "cell_type": "markdown",
      "source": [
        "#Split"
      ],
      "metadata": {
        "id": "0_6vG5kYsHqa"
      }
    },
    {
      "cell_type": "code",
      "source": [
        "#now split my _dataset as features and targets\n",
        "target= 'price_aprox_usd'\n",
        "feature = [\"surface_covered_in_m2\" ,\"lat\",\"lon\",\"borough\"]\n",
        "X_train = df[feature]\n",
        "y_train = df[target]"
      ],
      "metadata": {
        "id": "KmwFIJK5r_Go"
      },
      "execution_count": 75,
      "outputs": []
    },
    {
      "cell_type": "markdown",
      "source": [
        "Building Baseline Model"
      ],
      "metadata": {
        "id": "DcgpVCm0saeY"
      }
    },
    {
      "cell_type": "code",
      "source": [
        "#Calculate the baseline mean absolute error for your model\n",
        "y_mean = y_train.mean()\n",
        "y_pred_baseline = [y_mean]*len(y_train)\n",
        "baseline_mae = mean_absolute_error(y_train,y_pred_baseline)\n",
        "print(\"Mean apt price:\", y_mean)\n",
        "print(\"Baseline MAE:\", baseline_mae)"
      ],
      "metadata": {
        "colab": {
          "base_uri": "https://localhost:8080/"
        },
        "id": "UJebyuKxsVmX",
        "outputId": "f2b1b05a-a44f-4900-c2c1-d30a8c3624e4"
      },
      "execution_count": 76,
      "outputs": [
        {
          "output_type": "stream",
          "name": "stdout",
          "text": [
            "Mean apt price: 54246.5314982642\n",
            "Baseline MAE: 17239.939475888295\n"
          ]
        }
      ]
    },
    {
      "cell_type": "markdown",
      "source": [
        "#Building Our Model Using Pipline"
      ],
      "metadata": {
        "id": "3BLPEOnEtlwc"
      }
    },
    {
      "cell_type": "code",
      "source": [
        "# Build Model\n",
        "model = make_pipeline(\n",
        "    OneHotEncoder(categories='auto',handle_unknown='ignore'), \n",
        "    SimpleImputer(),\n",
        "    Ridge()\n",
        ")\n",
        "model.fit(X_train,y_train)"
      ],
      "metadata": {
        "colab": {
          "base_uri": "https://localhost:8080/"
        },
        "id": "HB7RdtLBsn5I",
        "outputId": "503b779f-03f1-4657-bd4c-feb5511d218c"
      },
      "execution_count": 108,
      "outputs": [
        {
          "output_type": "execute_result",
          "data": {
            "text/plain": [
              "Pipeline(steps=[('onehotencoder', OneHotEncoder(handle_unknown='ignore')),\n",
              "                ('simpleimputer', SimpleImputer()), ('ridge', Ridge())])"
            ]
          },
          "metadata": {},
          "execution_count": 108
        }
      ]
    },
    {
      "cell_type": "code",
      "source": [
        "X_test = pd.read_csv('/content/drive/MyDrive/Mexico_housing _data/mexico_test.csv',encoding=\"latin1\")\n",
        "X_test.drop(columns=\"Unnamed: 0\",inplace=True)\n",
        "print(X_test.info())\n",
        "X_test.head()"
      ],
      "metadata": {
        "colab": {
          "base_uri": "https://localhost:8080/",
          "height": 425
        },
        "id": "px2-167xugyE",
        "outputId": "886f84ad-5dae-4d5e-a473-ce0affe0a105"
      },
      "execution_count": 102,
      "outputs": [
        {
          "output_type": "stream",
          "name": "stdout",
          "text": [
            "<class 'pandas.core.frame.DataFrame'>\n",
            "RangeIndex: 1041 entries, 0 to 1040\n",
            "Data columns (total 4 columns):\n",
            " #   Column                 Non-Null Count  Dtype  \n",
            "---  ------                 --------------  -----  \n",
            " 0   surface_covered_in_m2  1041 non-null   int64  \n",
            " 1   lat                    986 non-null    float64\n",
            " 2   lon                    986 non-null    float64\n",
            " 3   borough                1041 non-null   object \n",
            "dtypes: float64(2), int64(1), object(1)\n",
            "memory usage: 32.7+ KB\n",
            "None\n"
          ]
        },
        {
          "output_type": "execute_result",
          "data": {
            "text/plain": [
              "   surface_covered_in_m2        lat        lon        borough\n",
              "0                     60  19.493185 -99.205755   Azcapotzalco\n",
              "1                     55  19.307247 -99.166700       Coyoacán\n",
              "2                     50  19.363469 -99.010141     Iztapalapa\n",
              "3                     60  19.474655 -99.189277   Azcapotzalco\n",
              "4                     74  19.394628 -99.143842  Benito Juárez"
            ],
            "text/html": [
              "\n",
              "  <div id=\"df-38a424f3-5003-401e-b2b8-8f9e8661dd75\">\n",
              "    <div class=\"colab-df-container\">\n",
              "      <div>\n",
              "<style scoped>\n",
              "    .dataframe tbody tr th:only-of-type {\n",
              "        vertical-align: middle;\n",
              "    }\n",
              "\n",
              "    .dataframe tbody tr th {\n",
              "        vertical-align: top;\n",
              "    }\n",
              "\n",
              "    .dataframe thead th {\n",
              "        text-align: right;\n",
              "    }\n",
              "</style>\n",
              "<table border=\"1\" class=\"dataframe\">\n",
              "  <thead>\n",
              "    <tr style=\"text-align: right;\">\n",
              "      <th></th>\n",
              "      <th>surface_covered_in_m2</th>\n",
              "      <th>lat</th>\n",
              "      <th>lon</th>\n",
              "      <th>borough</th>\n",
              "    </tr>\n",
              "  </thead>\n",
              "  <tbody>\n",
              "    <tr>\n",
              "      <th>0</th>\n",
              "      <td>60</td>\n",
              "      <td>19.493185</td>\n",
              "      <td>-99.205755</td>\n",
              "      <td>Azcapotzalco</td>\n",
              "    </tr>\n",
              "    <tr>\n",
              "      <th>1</th>\n",
              "      <td>55</td>\n",
              "      <td>19.307247</td>\n",
              "      <td>-99.166700</td>\n",
              "      <td>Coyoacán</td>\n",
              "    </tr>\n",
              "    <tr>\n",
              "      <th>2</th>\n",
              "      <td>50</td>\n",
              "      <td>19.363469</td>\n",
              "      <td>-99.010141</td>\n",
              "      <td>Iztapalapa</td>\n",
              "    </tr>\n",
              "    <tr>\n",
              "      <th>3</th>\n",
              "      <td>60</td>\n",
              "      <td>19.474655</td>\n",
              "      <td>-99.189277</td>\n",
              "      <td>Azcapotzalco</td>\n",
              "    </tr>\n",
              "    <tr>\n",
              "      <th>4</th>\n",
              "      <td>74</td>\n",
              "      <td>19.394628</td>\n",
              "      <td>-99.143842</td>\n",
              "      <td>Benito Juárez</td>\n",
              "    </tr>\n",
              "  </tbody>\n",
              "</table>\n",
              "</div>\n",
              "      <button class=\"colab-df-convert\" onclick=\"convertToInteractive('df-38a424f3-5003-401e-b2b8-8f9e8661dd75')\"\n",
              "              title=\"Convert this dataframe to an interactive table.\"\n",
              "              style=\"display:none;\">\n",
              "        \n",
              "  <svg xmlns=\"http://www.w3.org/2000/svg\" height=\"24px\"viewBox=\"0 0 24 24\"\n",
              "       width=\"24px\">\n",
              "    <path d=\"M0 0h24v24H0V0z\" fill=\"none\"/>\n",
              "    <path d=\"M18.56 5.44l.94 2.06.94-2.06 2.06-.94-2.06-.94-.94-2.06-.94 2.06-2.06.94zm-11 1L8.5 8.5l.94-2.06 2.06-.94-2.06-.94L8.5 2.5l-.94 2.06-2.06.94zm10 10l.94 2.06.94-2.06 2.06-.94-2.06-.94-.94-2.06-.94 2.06-2.06.94z\"/><path d=\"M17.41 7.96l-1.37-1.37c-.4-.4-.92-.59-1.43-.59-.52 0-1.04.2-1.43.59L10.3 9.45l-7.72 7.72c-.78.78-.78 2.05 0 2.83L4 21.41c.39.39.9.59 1.41.59.51 0 1.02-.2 1.41-.59l7.78-7.78 2.81-2.81c.8-.78.8-2.07 0-2.86zM5.41 20L4 18.59l7.72-7.72 1.47 1.35L5.41 20z\"/>\n",
              "  </svg>\n",
              "      </button>\n",
              "      \n",
              "  <style>\n",
              "    .colab-df-container {\n",
              "      display:flex;\n",
              "      flex-wrap:wrap;\n",
              "      gap: 12px;\n",
              "    }\n",
              "\n",
              "    .colab-df-convert {\n",
              "      background-color: #E8F0FE;\n",
              "      border: none;\n",
              "      border-radius: 50%;\n",
              "      cursor: pointer;\n",
              "      display: none;\n",
              "      fill: #1967D2;\n",
              "      height: 32px;\n",
              "      padding: 0 0 0 0;\n",
              "      width: 32px;\n",
              "    }\n",
              "\n",
              "    .colab-df-convert:hover {\n",
              "      background-color: #E2EBFA;\n",
              "      box-shadow: 0px 1px 2px rgba(60, 64, 67, 0.3), 0px 1px 3px 1px rgba(60, 64, 67, 0.15);\n",
              "      fill: #174EA6;\n",
              "    }\n",
              "\n",
              "    [theme=dark] .colab-df-convert {\n",
              "      background-color: #3B4455;\n",
              "      fill: #D2E3FC;\n",
              "    }\n",
              "\n",
              "    [theme=dark] .colab-df-convert:hover {\n",
              "      background-color: #434B5C;\n",
              "      box-shadow: 0px 1px 3px 1px rgba(0, 0, 0, 0.15);\n",
              "      filter: drop-shadow(0px 1px 2px rgba(0, 0, 0, 0.3));\n",
              "      fill: #FFFFFF;\n",
              "    }\n",
              "  </style>\n",
              "\n",
              "      <script>\n",
              "        const buttonEl =\n",
              "          document.querySelector('#df-38a424f3-5003-401e-b2b8-8f9e8661dd75 button.colab-df-convert');\n",
              "        buttonEl.style.display =\n",
              "          google.colab.kernel.accessAllowed ? 'block' : 'none';\n",
              "\n",
              "        async function convertToInteractive(key) {\n",
              "          const element = document.querySelector('#df-38a424f3-5003-401e-b2b8-8f9e8661dd75');\n",
              "          const dataTable =\n",
              "            await google.colab.kernel.invokeFunction('convertToInteractive',\n",
              "                                                     [key], {});\n",
              "          if (!dataTable) return;\n",
              "\n",
              "          const docLinkHtml = 'Like what you see? Visit the ' +\n",
              "            '<a target=\"_blank\" href=https://colab.research.google.com/notebooks/data_table.ipynb>data table notebook</a>'\n",
              "            + ' to learn more about interactive tables.';\n",
              "          element.innerHTML = '';\n",
              "          dataTable['output_type'] = 'display_data';\n",
              "          await google.colab.output.renderOutput(dataTable, element);\n",
              "          const docLink = document.createElement('div');\n",
              "          docLink.innerHTML = docLinkHtml;\n",
              "          element.appendChild(docLink);\n",
              "        }\n",
              "      </script>\n",
              "    </div>\n",
              "  </div>\n",
              "  "
            ]
          },
          "metadata": {},
          "execution_count": 102
        }
      ]
    },
    {
      "cell_type": "code",
      "source": [
        "#using my test_set for prediction\n",
        "y_test_pred =pd.Series(model.predict(X_test))\n",
        "y_test_pred.head()"
      ],
      "metadata": {
        "colab": {
          "base_uri": "https://localhost:8080/"
        },
        "id": "ctGeb0wCussd",
        "outputId": "c0387b99-d09b-482d-a369-c09d113dafb2"
      },
      "execution_count": 103,
      "outputs": [
        {
          "output_type": "execute_result",
          "data": {
            "text/plain": [
              "0    36415.528885\n",
              "1    55490.435064\n",
              "2    20127.323778\n",
              "3    35445.154248\n",
              "4    77147.339417\n",
              "dtype: float64"
            ]
          },
          "metadata": {},
          "execution_count": 103
        }
      ]
    },
    {
      "cell_type": "markdown",
      "source": [
        "#Identifying Most Important"
      ],
      "metadata": {
        "id": "jo04bA4Nw9SM"
      }
    },
    {
      "cell_type": "code",
      "source": [
        "#creating a series that shows the features that your model considerd for making prediction\n",
        "feature_names = model.named_steps['onehotencoder'].get_feature_names()\n",
        "intercept = model.named_steps['ridge'].intercept_\n",
        "coefficients = model.named_steps['ridge'].coef_\n",
        "feat_imp = pd.Series(coefficients,index=feature_names)\n",
        "feat_imp.head()"
      ],
      "metadata": {
        "colab": {
          "base_uri": "https://localhost:8080/"
        },
        "id": "yMqfkWYQvw80",
        "outputId": "3de5586e-e21a-42bd-abf4-4fc7fbccde67"
      },
      "execution_count": 104,
      "outputs": [
        {
          "output_type": "stream",
          "name": "stderr",
          "text": [
            "/usr/local/lib/python3.7/dist-packages/sklearn/utils/deprecation.py:87: FutureWarning: Function get_feature_names is deprecated; get_feature_names is deprecated in 1.0 and will be removed in 1.2. Please use get_feature_names_out instead.\n",
            "  warnings.warn(msg, category=FutureWarning)\n"
          ]
        },
        {
          "output_type": "execute_result",
          "data": {
            "text/plain": [
              "x0_48.0   -8567.676153\n",
              "x0_49.0   -4282.547242\n",
              "x0_50.0   -8265.734364\n",
              "x0_51.0   -4051.723596\n",
              "x0_52.0   -1755.622980\n",
              "dtype: float64"
            ]
          },
          "metadata": {},
          "execution_count": 104
        }
      ]
    },
    {
      "cell_type": "code",
      "source": [
        "# creat bar chart to visualize our features\n",
        "feat_imp.sort_values(key=abs).tail(5).plot(kind='barh')\n",
        "plt.xlabel(\"Importance [USD]\")\n",
        "plt.ylabel(\"Features\")\n",
        "plt.title(\"Feature important for Apartment price\")\n",
        "plt.show()"
      ],
      "metadata": {
        "colab": {
          "base_uri": "https://localhost:8080/",
          "height": 295
        },
        "id": "iK7kXdGoyDNg",
        "outputId": "d897ac1c-d597-46aa-e822-818ae63e627e"
      },
      "execution_count": 109,
      "outputs": [
        {
          "output_type": "display_data",
          "data": {
            "text/plain": [
              "<Figure size 432x288 with 1 Axes>"
            ],
            "image/png": "[encoded data removed]"
          },
          "metadata": {
            "needs_background": "light"
          }
        }
      ]
    },
    {
      "cell_type": "code",
      "source": [],
      "metadata": {
        "id": "MTMLZGmV2KSc"
      },
      "execution_count": null,
      "outputs": []
    }
  ]
}